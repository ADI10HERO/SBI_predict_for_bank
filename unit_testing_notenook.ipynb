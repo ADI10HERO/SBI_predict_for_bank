{
 "cells": [
  {
   "cell_type": "markdown",
   "metadata": {},
   "source": [
    "### PART ONE"
   ]
  },
  {
   "cell_type": "code",
   "execution_count": 1,
   "metadata": {},
   "outputs": [
    {
     "name": "stderr",
     "output_type": "stream",
     "text": [
      "Using TensorFlow backend.\n"
     ]
    }
   ],
   "source": [
    "import numpy as np\n",
    "import matplotlib.pyplot as plt\n",
    "import pandas as pd\n",
    "import quandl\n",
    "\n",
    "from keras.models import Sequential\n",
    "from keras.layers import Dense\n",
    "from keras.layers import LSTM\n",
    "from keras.layers import Dropout\n",
    "\n",
    "from sklearn.preprocessing import MinMaxScaler"
   ]
  },
  {
   "cell_type": "code",
   "execution_count": 2,
   "metadata": {},
   "outputs": [],
   "source": [
    "dataset = quandl.get(\"BSE/BOM500034\", authtoken=\"ySWkR96uDb-6XqvsY-ds\")"
   ]
  },
  {
   "cell_type": "code",
   "execution_count": 3,
   "metadata": {},
   "outputs": [],
   "source": [
    "index = int(len(dataset)*0.8)\n",
    "#CSV1\n",
    "dataset_train = dataset[:index]\n",
    "#CSV2\n",
    "dataset_test = dataset[index+1:]\n",
    "\n",
    "# 0:1 return array of shape (x,1)  \n",
    "# simply using 0 will return a shape (x,)\n",
    "training_set = dataset_train.iloc[:,0:1].values\n",
    "real_stock_price = dataset_test.iloc[:,0:1].values"
   ]
  },
  {
   "cell_type": "code",
   "execution_count": 4,
   "metadata": {},
   "outputs": [],
   "source": [
    "sc = MinMaxScaler(feature_range = (0, 1))\n",
    "training_set_scaled = sc.fit_transform(training_set)"
   ]
  },
  {
   "cell_type": "code",
   "execution_count": 5,
   "metadata": {},
   "outputs": [],
   "source": [
    "# Creating a data structure with 60 timesteps and 1 output\n",
    "X_train = []\n",
    "y_train = []\n",
    "for i in range(60, len(dataset_train)):\n",
    "    X_train.append(training_set_scaled[i-60:i, 0])\n",
    "    y_train.append(training_set_scaled[i, 0])\n",
    "X_train, y_train = np.array(X_train), np.array(y_train)"
   ]
  },
  {
   "cell_type": "code",
   "execution_count": 6,
   "metadata": {},
   "outputs": [
    {
     "name": "stdout",
     "output_type": "stream",
     "text": [
      "(4428, 60, 1)\n",
      "Number of example: 4428 \n",
      "Size of input:  (60, 1)\n"
     ]
    }
   ],
   "source": [
    "X_train = np.reshape(X_train, (X_train.shape[0], X_train.shape[1], 1))\n",
    "print((X_train.shape[0], X_train.shape[1], 1))\n",
    "print('Number of example:',X_train.shape[0],\"\\nSize of input: \",(X_train.shape[1],1))"
   ]
  },
  {
   "cell_type": "code",
   "execution_count": 7,
   "metadata": {
    "scrolled": true
   },
   "outputs": [
    {
     "name": "stdout",
     "output_type": "stream",
     "text": [
      "Epoch 1/10\n",
      "4428/4428 [==============================] - 12s 3ms/step - loss: 0.0037\n",
      "Epoch 2/10\n",
      "4428/4428 [==============================] - 11s 2ms/step - loss: 0.0010\n",
      "Epoch 3/10\n",
      "4428/4428 [==============================] - 11s 2ms/step - loss: 8.4856e-04\n",
      "Epoch 4/10\n",
      "4428/4428 [==============================] - 11s 2ms/step - loss: 8.5465e-04\n",
      "Epoch 5/10\n",
      "4428/4428 [==============================] - 10s 2ms/step - loss: 8.5048e-04\n",
      "Epoch 6/10\n",
      "4428/4428 [==============================] - 10s 2ms/step - loss: 8.4057e-04\n",
      "Epoch 7/10\n",
      "4428/4428 [==============================] - 10s 2ms/step - loss: 6.6863e-04\n",
      "Epoch 8/10\n",
      "4428/4428 [==============================] - 10s 2ms/step - loss: 7.3861e-04\n",
      "Epoch 9/10\n",
      "4428/4428 [==============================] - 10s 2ms/step - loss: 7.1742e-04\n",
      "Epoch 10/10\n",
      "4428/4428 [==============================] - 11s 2ms/step - loss: 6.1522e-04\n"
     ]
    },
    {
     "data": {
      "text/plain": [
       "<keras.callbacks.History at 0x21042eea9e8>"
      ]
     },
     "execution_count": 7,
     "metadata": {},
     "output_type": "execute_result"
    }
   ],
   "source": [
    "# Initialising the RNN\n",
    "regressor = Sequential()\n",
    "\n",
    "# Adding the first LSTM layer and some Dropout regularisation\n",
    "regressor.add(LSTM(units = 50, return_sequences = True, input_shape = (X_train.shape[1], 1)))\n",
    "regressor.add(Dropout(0.2))\n",
    "# Adding a second LSTM layer and some Dropout regularisation\n",
    "regressor.add(LSTM(units = 50, return_sequences = True))\n",
    "regressor.add(Dropout(0.2))\n",
    "# Adding a third LSTM layer and some Dropout regularisation\n",
    "regressor.add(LSTM(units = 50, return_sequences = True))\n",
    "regressor.add(Dropout(0.2))\n",
    "# Adding a fourth LSTM layer and some Dropout regularisation\n",
    "regressor.add(LSTM(units = 50))\n",
    "regressor.add(Dropout(0.2))\n",
    "\n",
    "# Adding the output layer\n",
    "regressor.add(Dense(units = 1))\n",
    "\n",
    "# Compiling the RNN\n",
    "regressor.compile(optimizer = 'adam', loss = 'mean_squared_error')\n",
    "\n",
    "# Fitting the RNN to the Training set\n",
    "regressor.fit(X_train, y_train, epochs = 10, batch_size = 32)"
   ]
  },
  {
   "cell_type": "markdown",
   "metadata": {},
   "source": [
    "###### Getting the predicted stock price of 2017inputs = inputs.reshape(-1,1)\n",
    "inputs = real_stock_price\n",
    "\n",
    "inputs = sc.transform(inputs)\n",
    "X_test = []\n",
    "pred=[]\n",
    "for i in range(60, 61):\n",
    "    X_test.append(inputs[i-60:i, 0])\n",
    "print(len(X_test),len(X_test[0]))\n",
    "X_test = np.array(X_test)\n",
    "X_test = np.reshape(X_test, (X_test.shape[0], X_test.shape[1], 1))\n",
    "predicted_stock_price = regressor.predict(X_test)\n",
    "predicted_stock_price = sc.inverse_transform(predicted_stock_price)\n",
    "predicted_stock_price\n",
    "np.array(x)\n",
    "\n"
   ]
  },
  {
   "cell_type": "code",
   "execution_count": 8,
   "metadata": {},
   "outputs": [],
   "source": [
    "inputs = list(real_stock_price)#(real_stock_price[len(real_stock_price)-60:])\n",
    "op=[]\n",
    "for i in range(180):\n",
    "    inputs = (sc.transform(inputs[:]))\n",
    "    X_test=[]\n",
    "    for j in range(60+i, 240+i):\n",
    "        X_test.append(inputs[j-60:j, 0])\n",
    "    X_test = np.array(X_test)\n",
    "    X_test = np.reshape(X_test, (X_test.shape[0], X_test.shape[1], 1))\n",
    "    predicted_stock_price = regressor.predict(X_test)\n",
    "    inputs=np.append(inputs,np.array(predicted_stock_price))\n",
    "    inputs=np.reshape(inputs,(inputs.shape[0],1))\n",
    "    predicted_stock_price = sc.inverse_transform(predicted_stock_price)\n",
    "    op.append(predicted_stock_price)"
   ]
  },
  {
   "cell_type": "code",
   "execution_count": 9,
   "metadata": {},
   "outputs": [
    {
     "name": "stdout",
     "output_type": "stream",
     "text": [
      "(180, 180, 1)\n"
     ]
    }
   ],
   "source": [
    "print(np.array(op).shape)\n",
    "xx=op[0]\n",
    "\n",
    "#print(xx)"
   ]
  },
  {
   "cell_type": "code",
   "execution_count": 10,
   "metadata": {},
   "outputs": [
    {
     "data": {
      "text/plain": [
       "array([[2989.7588],\n",
       "       [2999.3945],\n",
       "       [3010.7253],\n",
       "       [3023.3757],\n",
       "       [3037.236 ],\n",
       "       [3050.9915],\n",
       "       [3063.7532],\n",
       "       [3075.5518],\n",
       "       [3086.4893],\n",
       "       [3096.6575],\n",
       "       [3107.2385],\n",
       "       [3118.8125],\n",
       "       [3131.7073],\n",
       "       [3145.7878],\n",
       "       [3160.362 ],\n",
       "       [3175.147 ],\n",
       "       [3189.7932],\n",
       "       [3203.6584],\n",
       "       [3216.0127],\n",
       "       [3226.281 ],\n",
       "       [3234.866 ],\n",
       "       [3242.2168],\n",
       "       [3248.332 ],\n",
       "       [3253.2695],\n",
       "       [3257.3853],\n",
       "       [3263.1821],\n",
       "       [3272.5945],\n",
       "       [3287.3962],\n",
       "       [3306.999 ],\n",
       "       [3330.3757],\n",
       "       [3355.53  ],\n",
       "       [3380.8145],\n",
       "       [3404.9788],\n",
       "       [3428.8574],\n",
       "       [3454.3027],\n",
       "       [3481.381 ],\n",
       "       [3508.508 ],\n",
       "       [3534.8914],\n",
       "       [3559.9475],\n",
       "       [3583.0356],\n",
       "       [3603.4104],\n",
       "       [3620.1218],\n",
       "       [3632.5332],\n",
       "       [3640.8618],\n",
       "       [3646.2537],\n",
       "       [3649.977 ],\n",
       "       [3653.3801],\n",
       "       [3657.9482],\n",
       "       [3664.4236],\n",
       "       [3672.8887],\n",
       "       [3682.4075],\n",
       "       [3691.7454],\n",
       "       [3699.8042],\n",
       "       [3705.7202],\n",
       "       [3709.157 ],\n",
       "       [3710.1887],\n",
       "       [3711.1296],\n",
       "       [3713.4976],\n",
       "       [3717.9055],\n",
       "       [3724.0537],\n",
       "       [3731.4482],\n",
       "       [3738.9685],\n",
       "       [3745.3477],\n",
       "       [3749.764 ],\n",
       "       [3751.7969],\n",
       "       [3751.2158],\n",
       "       [3747.7805],\n",
       "       [3741.6704],\n",
       "       [3733.5613],\n",
       "       [3724.1814],\n",
       "       [3713.9211],\n",
       "       [3703.257 ],\n",
       "       [3692.189 ],\n",
       "       [3680.7593],\n",
       "       [3669.2812],\n",
       "       [3658.2747],\n",
       "       [3648.2356],\n",
       "       [3640.0288],\n",
       "       [3634.5315],\n",
       "       [3632.6938],\n",
       "       [3635.4922],\n",
       "       [3643.615 ],\n",
       "       [3657.0198],\n",
       "       [3674.7183],\n",
       "       [3694.8647],\n",
       "       [3715.852 ],\n",
       "       [3737.1318],\n",
       "       [3757.7969],\n",
       "       [3777.3386],\n",
       "       [3794.2073],\n",
       "       [3807.3826],\n",
       "       [3816.1567],\n",
       "       [3819.7761],\n",
       "       [3817.3743],\n",
       "       [3809.294 ],\n",
       "       [3796.455 ],\n",
       "       [3780.1074],\n",
       "       [3763.4712],\n",
       "       [3748.627 ],\n",
       "       [3737.136 ],\n",
       "       [3729.0583],\n",
       "       [3724.5818],\n",
       "       [3723.6719],\n",
       "       [3725.7427],\n",
       "       [3730.0017],\n",
       "       [3736.053 ],\n",
       "       [3743.961 ],\n",
       "       [3753.4304],\n",
       "       [3764.2502],\n",
       "       [3776.0354],\n",
       "       [3788.5337],\n",
       "       [3801.13  ],\n",
       "       [3814.067 ],\n",
       "       [3826.5283],\n",
       "       [3837.5615],\n",
       "       [3846.488 ],\n",
       "       [3852.2578],\n",
       "       [3855.1707],\n",
       "       [3854.9849],\n",
       "       [3851.9055],\n",
       "       [3847.0486],\n",
       "       [3841.9836],\n",
       "       [3837.407 ],\n",
       "       [3834.3857],\n",
       "       [3833.582 ],\n",
       "       [3835.4998],\n",
       "       [3840.256 ],\n",
       "       [3847.4763],\n",
       "       [3856.711 ],\n",
       "       [3867.6794],\n",
       "       [3880.476 ],\n",
       "       [3896.361 ],\n",
       "       [3916.4202],\n",
       "       [3940.2239],\n",
       "       [3966.3904],\n",
       "       [3993.8035],\n",
       "       [4021.0586],\n",
       "       [4047.395 ],\n",
       "       [4072.3848],\n",
       "       [4095.7908],\n",
       "       [4117.3296],\n",
       "       [4136.9624],\n",
       "       [4154.9116],\n",
       "       [4171.108 ],\n",
       "       [4184.537 ],\n",
       "       [4193.947 ],\n",
       "       [4198.951 ],\n",
       "       [4199.9844],\n",
       "       [4197.792 ],\n",
       "       [4193.461 ],\n",
       "       [4188.226 ],\n",
       "       [4182.7676],\n",
       "       [4177.491 ],\n",
       "       [4172.6655],\n",
       "       [4168.256 ],\n",
       "       [4164.1987],\n",
       "       [4160.4473],\n",
       "       [4157.3164],\n",
       "       [4155.4727],\n",
       "       [4155.544 ],\n",
       "       [4157.634 ],\n",
       "       [4161.6934],\n",
       "       [4168.082 ],\n",
       "       [4176.4756],\n",
       "       [4186.056 ],\n",
       "       [4195.718 ],\n",
       "       [4204.9004],\n",
       "       [4213.0557],\n",
       "       [4219.8496],\n",
       "       [4224.8174],\n",
       "       [4227.9644],\n",
       "       [4229.621 ],\n",
       "       [4230.124 ],\n",
       "       [4229.7896],\n",
       "       [4228.8037],\n",
       "       [4226.95  ],\n",
       "       [4223.998 ],\n",
       "       [4218.8525],\n",
       "       [4211.1646],\n",
       "       [4201.494 ]], dtype=float32)"
      ]
     },
     "execution_count": 10,
     "metadata": {},
     "output_type": "execute_result"
    }
   ],
   "source": [
    "xx"
   ]
  },
  {
   "cell_type": "code",
   "execution_count": 11,
   "metadata": {
    "scrolled": false
   },
   "outputs": [
    {
     "name": "stdout",
     "output_type": "stream",
     "text": [
      "(180, 1) (1121, 1) (33461,)\n"
     ]
    }
   ],
   "source": [
    "print(predicted_stock_price.shape,real_stock_price.shape,inputs[60:,0].shape)"
   ]
  },
  {
   "cell_type": "code",
   "execution_count": 12,
   "metadata": {},
   "outputs": [],
   "source": [
    "def spl(a,b):\n",
    "    x=sum(a)//len(a)\n",
    "    y=sum(b)//len(b)\n",
    "    return (y-x)/y    "
   ]
  },
  {
   "cell_type": "code",
   "execution_count": 13,
   "metadata": {},
   "outputs": [
    {
     "data": {
      "text/plain": [
       "array([[2989.7588],\n",
       "       [2999.3945],\n",
       "       [3010.7253],\n",
       "       [3023.3757],\n",
       "       [3037.236 ],\n",
       "       [3050.9915],\n",
       "       [3063.7532],\n",
       "       [3075.5518],\n",
       "       [3086.4893],\n",
       "       [3096.6575],\n",
       "       [3107.2385],\n",
       "       [3118.8125],\n",
       "       [3131.7073],\n",
       "       [3145.7878],\n",
       "       [3160.362 ],\n",
       "       [3175.147 ],\n",
       "       [3189.7932],\n",
       "       [3203.6584],\n",
       "       [3216.0127],\n",
       "       [3226.281 ],\n",
       "       [3234.866 ],\n",
       "       [3242.2168],\n",
       "       [3248.332 ],\n",
       "       [3253.2695],\n",
       "       [3257.3853],\n",
       "       [3263.1821],\n",
       "       [3272.5945],\n",
       "       [3287.3962],\n",
       "       [3306.999 ],\n",
       "       [3330.3757],\n",
       "       [3355.53  ],\n",
       "       [3380.8145],\n",
       "       [3404.9788],\n",
       "       [3428.8574],\n",
       "       [3454.3027],\n",
       "       [3481.381 ],\n",
       "       [3508.508 ],\n",
       "       [3534.8914],\n",
       "       [3559.9475],\n",
       "       [3583.0356],\n",
       "       [3603.4104],\n",
       "       [3620.1218],\n",
       "       [3632.5332],\n",
       "       [3640.8618],\n",
       "       [3646.2537],\n",
       "       [3649.977 ],\n",
       "       [3653.3801],\n",
       "       [3657.9482],\n",
       "       [3664.4236],\n",
       "       [3672.8887],\n",
       "       [3682.4075],\n",
       "       [3691.7454],\n",
       "       [3699.8042],\n",
       "       [3705.7202],\n",
       "       [3709.157 ],\n",
       "       [3710.1887],\n",
       "       [3711.1296],\n",
       "       [3713.4976],\n",
       "       [3717.9055],\n",
       "       [3724.0537],\n",
       "       [3731.4482],\n",
       "       [3738.9685],\n",
       "       [3745.3477],\n",
       "       [3749.764 ],\n",
       "       [3751.7969],\n",
       "       [3751.2158],\n",
       "       [3747.7805],\n",
       "       [3741.6704],\n",
       "       [3733.5613],\n",
       "       [3724.1814],\n",
       "       [3713.9211],\n",
       "       [3703.257 ],\n",
       "       [3692.189 ],\n",
       "       [3680.7593],\n",
       "       [3669.2812],\n",
       "       [3658.2747],\n",
       "       [3648.2356],\n",
       "       [3640.0288],\n",
       "       [3634.5315],\n",
       "       [3632.6938],\n",
       "       [3635.4922],\n",
       "       [3643.615 ],\n",
       "       [3657.0198],\n",
       "       [3674.7183],\n",
       "       [3694.8647],\n",
       "       [3715.852 ],\n",
       "       [3737.1318],\n",
       "       [3757.7969],\n",
       "       [3777.3386],\n",
       "       [3794.2073],\n",
       "       [3807.3826],\n",
       "       [3816.1567],\n",
       "       [3819.7761],\n",
       "       [3817.3743],\n",
       "       [3809.294 ],\n",
       "       [3796.455 ],\n",
       "       [3780.1074],\n",
       "       [3763.4712],\n",
       "       [3748.627 ],\n",
       "       [3737.136 ],\n",
       "       [3729.0583],\n",
       "       [3724.5818],\n",
       "       [3723.6719],\n",
       "       [3725.7427],\n",
       "       [3730.0017],\n",
       "       [3736.053 ],\n",
       "       [3743.961 ],\n",
       "       [3753.4304],\n",
       "       [3764.2502],\n",
       "       [3776.0354],\n",
       "       [3788.5337],\n",
       "       [3801.13  ],\n",
       "       [3814.067 ],\n",
       "       [3826.5283],\n",
       "       [3837.5615],\n",
       "       [3846.488 ],\n",
       "       [3852.2578],\n",
       "       [3855.1707],\n",
       "       [3854.9849],\n",
       "       [3851.9055],\n",
       "       [3847.0486],\n",
       "       [3841.9836],\n",
       "       [3837.407 ],\n",
       "       [3834.3857],\n",
       "       [3833.582 ],\n",
       "       [3835.4998],\n",
       "       [3840.256 ],\n",
       "       [3847.4763],\n",
       "       [3856.711 ],\n",
       "       [3867.6794],\n",
       "       [3880.476 ],\n",
       "       [3896.361 ],\n",
       "       [3916.4202],\n",
       "       [3940.2239],\n",
       "       [3966.3904],\n",
       "       [3993.8035],\n",
       "       [4021.0586],\n",
       "       [4047.395 ],\n",
       "       [4072.3848],\n",
       "       [4095.7908],\n",
       "       [4117.3296],\n",
       "       [4136.9624],\n",
       "       [4154.9116],\n",
       "       [4171.108 ],\n",
       "       [4184.537 ],\n",
       "       [4193.947 ],\n",
       "       [4198.951 ],\n",
       "       [4199.9844],\n",
       "       [4197.792 ],\n",
       "       [4193.461 ],\n",
       "       [4188.226 ],\n",
       "       [4182.7676],\n",
       "       [4177.491 ],\n",
       "       [4172.6655],\n",
       "       [4168.256 ],\n",
       "       [4164.1987],\n",
       "       [4160.4473],\n",
       "       [4157.3164],\n",
       "       [4155.4727],\n",
       "       [4155.544 ],\n",
       "       [4157.634 ],\n",
       "       [4161.6934],\n",
       "       [4168.082 ],\n",
       "       [4176.4756],\n",
       "       [4186.056 ],\n",
       "       [4195.718 ],\n",
       "       [4204.9004],\n",
       "       [4213.0557],\n",
       "       [4219.8496],\n",
       "       [4224.8174],\n",
       "       [4227.9644],\n",
       "       [4229.621 ],\n",
       "       [4230.124 ],\n",
       "       [4229.7896],\n",
       "       [4228.8037],\n",
       "       [4226.95  ],\n",
       "       [4223.998 ],\n",
       "       [4218.8525],\n",
       "       [4211.1646],\n",
       "       [4201.494 ]], dtype=float32)"
      ]
     },
     "execution_count": 13,
     "metadata": {},
     "output_type": "execute_result"
    }
   ],
   "source": [
    "xx"
   ]
  },
  {
   "cell_type": "code",
   "execution_count": 14,
   "metadata": {},
   "outputs": [
    {
     "data": {
      "text/plain": [
       "array([1.0037413], dtype=float32)"
      ]
     },
     "execution_count": 14,
     "metadata": {},
     "output_type": "execute_result"
    }
   ],
   "source": [
    "spl(predicted_stock_price,xx)"
   ]
  },
  {
   "cell_type": "code",
   "execution_count": 15,
   "metadata": {},
   "outputs": [
    {
     "data": {
      "image/png": "[encoded data removed]",
      "text/plain": [
       "<Figure size 432x288 with 1 Axes>"
      ]
     },
     "metadata": {
      "needs_background": "light"
     },
     "output_type": "display_data"
    }
   ],
   "source": [
    "# Visualising the results\n",
    "plt.plot(real_stock_price[:,0], color = 'red', label = 'Real Stock Price')\n",
    "#plt.plot(predicted_stock_price, color = 'blue', label = 'Predicted Stock Price')\n",
    "plt.plot(xx, color = 'green', label = 'P')\n",
    "plt.title('For SBI')\n",
    "plt.xlabel('Time')\n",
    "plt.ylabel('Stock Price')\n",
    "\n",
    "plt.legend()\n",
    "plt.show()"
   ]
  },
  {
   "cell_type": "markdown",
   "metadata": {},
   "source": [
    "# Everything works"
   ]
  },
  {
   "cell_type": "markdown",
   "metadata": {},
   "source": [
    "### PART TWO  TWITTER SENTIMENT ANALYSIS"
   ]
  },
  {
   "cell_type": "code",
   "execution_count": 16,
   "metadata": {},
   "outputs": [],
   "source": [
    "def tsa(company):\n",
    "    import tweepy\n",
    "    from textblob import TextBlob\n",
    "\n",
    "    consumer_key='E94sIzRD7vzERsetUTkEO1BdX'\n",
    "    consumer_secret='xOKQywPpJeZGzI0dB3LB8nmOlMcR7tapUsWTfAh4MsFkaaKOC3'\n",
    "\n",
    "    access_token='1433534281-hqKtWpz29AyxjmINhv7P5TKdqhnjBCLQAD06IDF'\n",
    "    access_secret='j9YdOcy52UjJYpWfYEbSL2Mkf789Ix1J3WB7ovqew0Ye7'\n",
    "\n",
    "    auth=tweepy.OAuthHandler(consumer_key,consumer_secret)\n",
    "    auth.set_access_token(access_token,access_secret)\n",
    "\n",
    "    api=tweepy.API(auth)\n",
    "\n",
    "    public_tweets = api.search(company)\n",
    "    x=[]\n",
    "    for tweets in public_tweets:\n",
    "        #print(tweets.text)\n",
    "        analysis=TextBlob(tweets.text)\n",
    "        x.append([analysis.sentiment[0],analysis.sentiment[1]])\n",
    "    return x"
   ]
  },
  {
   "cell_type": "code",
   "execution_count": 18,
   "metadata": {},
   "outputs": [],
   "source": [
    "company='Bajaj Finance'"
   ]
  },
  {
   "cell_type": "code",
   "execution_count": 19,
   "metadata": {
    "scrolled": true
   },
   "outputs": [],
   "source": [
    "x=tsa(company)"
   ]
  },
  {
   "cell_type": "code",
   "execution_count": 20,
   "metadata": {
    "collapsed": true
   },
   "outputs": [
    {
     "ename": "TypeError",
     "evalue": "unsupported operand type(s) for +: 'int' and 'list'",
     "output_type": "error",
     "traceback": [
      "\u001b[1;31m---------------------------------------------------------------------------\u001b[0m",
      "\u001b[1;31mTypeError\u001b[0m                                 Traceback (most recent call last)",
      "\u001b[1;32m<ipython-input-20-88d17cea74d9>\u001b[0m in \u001b[0;36m<module>\u001b[1;34m\u001b[0m\n\u001b[0;32m      1\u001b[0m \u001b[1;32mdef\u001b[0m \u001b[0msp2\u001b[0m\u001b[1;33m(\u001b[0m\u001b[0mx\u001b[0m\u001b[1;33m)\u001b[0m\u001b[1;33m:\u001b[0m\u001b[1;33m\u001b[0m\u001b[1;33m\u001b[0m\u001b[0m\n\u001b[0;32m      2\u001b[0m     \u001b[1;32mreturn\u001b[0m\u001b[1;33m(\u001b[0m\u001b[0msum\u001b[0m\u001b[1;33m(\u001b[0m\u001b[0mx\u001b[0m\u001b[1;33m)\u001b[0m\u001b[1;33m/\u001b[0m\u001b[0mlen\u001b[0m\u001b[1;33m(\u001b[0m\u001b[0mx\u001b[0m\u001b[1;33m)\u001b[0m\u001b[1;33m)\u001b[0m\u001b[1;33m\u001b[0m\u001b[1;33m\u001b[0m\u001b[0m\n\u001b[1;32m----> 3\u001b[1;33m \u001b[0msp2\u001b[0m\u001b[1;33m(\u001b[0m\u001b[0mx\u001b[0m\u001b[1;33m)\u001b[0m\u001b[1;33m\u001b[0m\u001b[1;33m\u001b[0m\u001b[0m\n\u001b[0m",
      "\u001b[1;32m<ipython-input-20-88d17cea74d9>\u001b[0m in \u001b[0;36msp2\u001b[1;34m(x)\u001b[0m\n\u001b[0;32m      1\u001b[0m \u001b[1;32mdef\u001b[0m \u001b[0msp2\u001b[0m\u001b[1;33m(\u001b[0m\u001b[0mx\u001b[0m\u001b[1;33m)\u001b[0m\u001b[1;33m:\u001b[0m\u001b[1;33m\u001b[0m\u001b[1;33m\u001b[0m\u001b[0m\n\u001b[1;32m----> 2\u001b[1;33m     \u001b[1;32mreturn\u001b[0m\u001b[1;33m(\u001b[0m\u001b[0msum\u001b[0m\u001b[1;33m(\u001b[0m\u001b[0mx\u001b[0m\u001b[1;33m)\u001b[0m\u001b[1;33m/\u001b[0m\u001b[0mlen\u001b[0m\u001b[1;33m(\u001b[0m\u001b[0mx\u001b[0m\u001b[1;33m)\u001b[0m\u001b[1;33m)\u001b[0m\u001b[1;33m\u001b[0m\u001b[1;33m\u001b[0m\u001b[0m\n\u001b[0m\u001b[0;32m      3\u001b[0m \u001b[0msp2\u001b[0m\u001b[1;33m(\u001b[0m\u001b[0mx\u001b[0m\u001b[1;33m)\u001b[0m\u001b[1;33m\u001b[0m\u001b[1;33m\u001b[0m\u001b[0m\n",
      "\u001b[1;31mTypeError\u001b[0m: unsupported operand type(s) for +: 'int' and 'list'"
     ]
    }
   ],
   "source": [
    "def sp2(x):\n",
    "    return(sum(x)/len(x))\n",
    "sp2(x)"
   ]
  },
  {
   "cell_type": "code",
   "execution_count": 21,
   "metadata": {},
   "outputs": [],
   "source": [
    "sd1=np.std([i[0] for i in x ])"
   ]
  },
  {
   "cell_type": "code",
   "execution_count": 22,
   "metadata": {},
   "outputs": [],
   "source": [
    "sd2 = np.std([i[1] for i in x])"
   ]
  },
  {
   "cell_type": "code",
   "execution_count": null,
   "metadata": {},
   "outputs": [],
   "source": []
  },
  {
   "cell_type": "markdown",
   "metadata": {},
   "source": [
    "## PART 3 NEWS SENTIMENT ANALYSIS"
   ]
  },
  {
   "cell_type": "code",
   "execution_count": 23,
   "metadata": {},
   "outputs": [],
   "source": [
    "from bs4 import BeautifulSoup as soup\n",
    "import requests\n",
    "import re\n",
    "from textblob import TextBlob "
   ]
  },
  {
   "cell_type": "code",
   "execution_count": 24,
   "metadata": {},
   "outputs": [],
   "source": [
    "def livemint(url_list):\n",
    "    text=[]\n",
    "    for i in url_list:\n",
    "        if('livemint'  in i):\n",
    "            page1=requests.get(i)\n",
    "            htmlpage1 = soup(page1.text,'html.parser')\n",
    "            no1 = htmlpage1.findAll('script',{})\n",
    "            l=str(no1[2]) \n",
    "            text.append(l[740:-740])\n",
    "        else:\n",
    "            continue\n",
    "    #print(text)\n",
    "    return text"
   ]
  },
  {
   "cell_type": "code",
   "execution_count": 25,
   "metadata": {},
   "outputs": [],
   "source": [
    "def et(url_list):\n",
    "    text=[]\n",
    "    for i in url_list:\n",
    "        if('www.economictimes' in i):\n",
    "            #print(i)\n",
    "            page1=requests.get(i)\n",
    "            htmlpage1 = soup(page1.text,'html.parser')\n",
    "            no1 = htmlpage1.findAll('div',{})\n",
    "            x=re.search('\"Normal\"', str(no1)).start()\n",
    "            y=re.search('<div class=\"clr\"></div><div class=\"clr\">', str(no1)).start()\n",
    "            l=str(no1)\n",
    "            l=l[x:y]\n",
    "            l= soup(l).text\n",
    "            text.append(l)\n",
    "    return text"
   ]
  },
  {
   "cell_type": "code",
   "execution_count": 26,
   "metadata": {},
   "outputs": [],
   "source": [
    "def moneycontrol(url_list):\n",
    "    text=[]\n",
    "    for i in url_list:\n",
    "        if('moneycontrol' in i):\n",
    "            page1=requests.get(i)\n",
    "            htmlpage1 = soup(page1.text,'html.parser')\n",
    "            no1 = htmlpage1.findAll('p',{})\n",
    "            no1=no1[:-4]\n",
    "            l=str(no1)\n",
    "            l=soup(l).text\n",
    "            text.append(l)\n",
    "    return text"
   ]
  },
  {
   "cell_type": "code",
   "execution_count": 27,
   "metadata": {},
   "outputs": [],
   "source": [
    "def nsa(company):\n",
    "    url_list=[]\n",
    "    pgno=1\n",
    "    while(True):\n",
    "        url = \"https://www.ibbi.gov.in/media/media-coverage?title=\"+company+\"&date=&page=\"+str(pgno)\n",
    "        page = requests.get(url)\n",
    "        html_soup = soup(page.text,'html.parser')\n",
    "        no = html_soup.findAll('td',{})\n",
    "        if(no ==[]):\n",
    "            break\n",
    "        k=1\n",
    "        for i in range(len(no)//2):\n",
    "            x=re.search(\"(?P<url>https?://[^\\s]+)\", str(no[k])).group(\"url\")\n",
    "            x=x[:-5]\n",
    "            url_list.append(x)\n",
    "            k=k+2\n",
    "        pgno+=1\n",
    "\n",
    "    news=livemint(url_list)\n",
    "    news += et(url_list)\n",
    "    news += moneycontrol(url_list)\n",
    "    sa=[]\n",
    "    for n in news:\n",
    "        senti=TextBlob(n)\n",
    "        sa.append([senti.sentiment[0],senti.sentiment[1]])\n",
    "    return sa\n"
   ]
  },
  {
   "cell_type": "code",
   "execution_count": 29,
   "metadata": {},
   "outputs": [],
   "source": [
    "SA=nsa(company)"
   ]
  },
  {
   "cell_type": "code",
   "execution_count": 30,
   "metadata": {},
   "outputs": [
    {
     "name": "stderr",
     "output_type": "stream",
     "text": [
      "d:\\softwares\\anaconda\\envs\\tensor\\lib\\site-packages\\numpy\\core\\_methods.py:140: RuntimeWarning: Degrees of freedom <= 0 for slice\n",
      "  keepdims=keepdims)\n",
      "d:\\softwares\\anaconda\\envs\\tensor\\lib\\site-packages\\numpy\\core\\_methods.py:110: RuntimeWarning: invalid value encountered in true_divide\n",
      "  arrmean, rcount, out=arrmean, casting='unsafe', subok=False)\n",
      "d:\\softwares\\anaconda\\envs\\tensor\\lib\\site-packages\\numpy\\core\\_methods.py:132: RuntimeWarning: invalid value encountered in double_scalars\n",
      "  ret = ret.dtype.type(ret / rcount)\n"
     ]
    }
   ],
   "source": [
    "sd1=np.std([i[0] for i in SA ])\n",
    "if(sd1 == float('nan')): sd1=0"
   ]
  },
  {
   "cell_type": "code",
   "execution_count": 40,
   "metadata": {},
   "outputs": [],
   "source": [
    "sd2 = np.std([i[1] for i in SA])\n",
    "if(sd2 == float('nan')): sd2=0"
   ]
  },
  {
   "cell_type": "markdown",
   "metadata": {},
   "source": [
    "# Parent Model PROCESSING"
   ]
  },
  {
   "cell_type": "code",
   "execution_count": 32,
   "metadata": {},
   "outputs": [],
   "source": [
    "import pandas as pd\n",
    "import numpy as np\n",
    "from sklearn.cluster import KMeans\n",
    "from sklearn.preprocessing import LabelEncoder\n",
    "from sklearn.preprocessing import MinMaxScaler\n",
    "import matplotlib.pyplot as plt\n",
    "%matplotlib inline"
   ]
  },
  {
   "cell_type": "code",
   "execution_count": 62,
   "metadata": {},
   "outputs": [],
   "source": [
    "def get_from_nsa(company):\n",
    "    SA=nsa(company)\n",
    "    if(len(SA)==0):\n",
    "        return 0,0\n",
    "    sd1 = np.std([i[0] for i in SA])\n",
    "    sd2 = np.std([i[1] for i in SA])\n",
    "    return sd1,sd2"
   ]
  },
  {
   "cell_type": "code",
   "execution_count": 63,
   "metadata": {},
   "outputs": [],
   "source": [
    "def get_from_tsa(company):\n",
    "    x=tsa(company)\n",
    "    \n",
    "    if(len(x)==0):\n",
    "        return 0,0\n",
    "    sd1=np.std([i[0] for i in x ])\n",
    "    sd2=np.std([i[1] for i in x ])\n",
    "    return sd1,sd2"
   ]
  },
  {
   "cell_type": "code",
   "execution_count": 64,
   "metadata": {},
   "outputs": [],
   "source": [
    "sc1=(int(xx[-1])-int(xx[0]))/int(xx[0])\n",
    "\n",
    "RETURN = [sc1]\n",
    "sd1a,sd2a=get_from_nsa(company)\n",
    "sd1b,sd2b=get_from_tsa(company)\n"
   ]
  },
  {
   "cell_type": "code",
   "execution_count": 65,
   "metadata": {},
   "outputs": [],
   "source": [
    "RETURN.extend([sd1a,sd2a,sd1b,sd2b])"
   ]
  },
  {
   "cell_type": "code",
   "execution_count": 66,
   "metadata": {},
   "outputs": [],
   "source": [
    "RETURN[0]=(int(xx[-1])-int(xx[0]))/int(xx[0])"
   ]
  },
  {
   "cell_type": "code",
   "execution_count": null,
   "metadata": {},
   "outputs": [],
   "source": []
  },
  {
   "cell_type": "code",
   "execution_count": 67,
   "metadata": {},
   "outputs": [],
   "source": [
    "import pickle"
   ]
  },
  {
   "cell_type": "code",
   "execution_count": 68,
   "metadata": {},
   "outputs": [
    {
     "data": {
      "text/plain": [
       "[0.4054867848778856, 0, 0, 0.3109126351029605, 0.35857549956583606]"
      ]
     },
     "execution_count": 68,
     "metadata": {},
     "output_type": "execute_result"
    }
   ],
   "source": [
    "RETURN"
   ]
  },
  {
   "cell_type": "code",
   "execution_count": 76,
   "metadata": {},
   "outputs": [],
   "source": [
    "bomb=['BOM521070','BOM532778','BOM532977','BOM533295','BOM533273']"
   ]
  },
  {
   "cell_type": "code",
   "execution_count": 77,
   "metadata": {},
   "outputs": [],
   "source": [
    "def call_find(company):\n",
    "    sc1=0\n",
    "    avg=0\n",
    "    '''\n",
    "    if(name in d):\n",
    "        code=d[name]\n",
    "    else:\n",
    "        rl1.config(text=\"Company Data not found\")\n",
    "        return\n",
    "    '''\n",
    "    #main model\n",
    "    dataset = quandl.get(\"BSE/\"+str(company) , authtoken=\"ySWkR96uDb-6XqvsY-ds\")\n",
    "    index = int(len(dataset)*0.8)\n",
    "    #CSV1\n",
    "    dataset_train = dataset[:index]\n",
    "    #CSV2\n",
    "    dataset_test = dataset[index+1:]\n",
    "\n",
    "    # 0:1 return array of shape (x,1)  \n",
    "    # simply using 0 will return a shape (x,)\n",
    "    training_set = dataset_train.iloc[:,0:1].values\n",
    "    real_stock_price = dataset_test.iloc[:,0:1].values\n",
    "\n",
    "    sc = MinMaxScaler(feature_range = (0, 1))\n",
    "    training_set_scaled = sc.fit_transform(training_set)\n",
    "    # Creating a data structure with 60 timesteps and 1 output\n",
    "    X_train = []\n",
    "    y_train = []\n",
    "    for i in range(60, len(dataset_train)):\n",
    "        X_train.append(training_set_scaled[i-60:i, 0])\n",
    "        y_train.append(training_set_scaled[i, 0])\n",
    "    X_train, y_train = np.array(X_train), np.array(y_train)\n",
    "    X_train = np.reshape(X_train, (X_train.shape[0], X_train.shape[1], 1))\n",
    "    # Initialising the RNN\n",
    "    regressor = Sequential()\n",
    "\n",
    "    # Adding the first LSTM layer and some Dropout regularisation\n",
    "    regressor.add(LSTM(units = 50, return_sequences = True, input_shape = (X_train.shape[1], 1)))\n",
    "    regressor.add(Dropout(0.2))\n",
    "    # Adding a second LSTM layer and some Dropout regularisation\n",
    "    regressor.add(LSTM(units = 50, return_sequences = True))\n",
    "    regressor.add(Dropout(0.2))\n",
    "    # Adding a third LSTM layer and some Dropout regularisation\n",
    "    regressor.add(LSTM(units = 50, return_sequences = True))\n",
    "    regressor.add(Dropout(0.2))\n",
    "    # Adding a fourth LSTM layer and some Dropout regularisation\n",
    "    regressor.add(LSTM(units = 50))\n",
    "    regressor.add(Dropout(0.2))\n",
    "\n",
    "    # Adding the output layer\n",
    "    regressor.add(Dense(units = 1))\n",
    "\n",
    "    # Compiling the RNN\n",
    "    regressor.compile(optimizer = 'adam', loss = 'mean_squared_error')\n",
    "\n",
    "    # Fitting the RNN to the Training set\n",
    "    regressor.fit(X_train, y_train, epochs = 4, batch_size = 32)\n",
    "\n",
    "    inputs = list(real_stock_price)#(real_stock_price[len(real_stock_price)-60:])\n",
    "    op=[]\n",
    "    for i in range(180):\n",
    "        inputs = (sc.transform(inputs[:]))\n",
    "        X_test=[]\n",
    "        for j in range(60+i, 240+i):\n",
    "            X_test.append(inputs[j-60:j, 0])\n",
    "        X_test = np.array(X_test)\n",
    "        X_test = np.reshape(X_test, (X_test.shape[0], X_test.shape[1], 1))\n",
    "        predicted_stock_price = regressor.predict(X_test)\n",
    "        inputs=np.append(inputs,np.array(predicted_stock_price))\n",
    "        inputs=np.reshape(inputs,(inputs.shape[0],1))\n",
    "        predicted_stock_price = sc.inverse_transform(predicted_stock_price)\n",
    "        op.append(predicted_stock_price)\n",
    "\n",
    "    xx=op[0]\n",
    "    \n",
    "    sc1=(int(xx[-1])-int(xx[0]))/int(xx[0])\n",
    "    \n",
    "    RETURN = [sc1]\n",
    "    sd1a,sd2a=get_from_nsa(company)\n",
    "    sd1b,sd2b=get_from_tsa(company)\n",
    "    RETURN.extend([sd1a,sd2a,sd1b,sd2b])\n",
    "    \n",
    "    return RETURN\n",
    "    \n"
   ]
  },
  {
   "cell_type": "code",
   "execution_count": 80,
   "metadata": {},
   "outputs": [
    {
     "name": "stdout",
     "output_type": "stream",
     "text": [
      "Epoch 1/10\n",
      "4710/4710 [==============================] - 16s 3ms/step - loss: 0.0039\n",
      "Epoch 2/10\n",
      "4710/4710 [==============================] - 12s 2ms/step - loss: 0.0014\n",
      "Epoch 3/10\n",
      "4710/4710 [==============================] - 11s 2ms/step - loss: 0.0017\n",
      "Epoch 4/10\n",
      "4710/4710 [==============================] - 11s 2ms/step - loss: 0.0011\n",
      "Epoch 5/10\n",
      "4710/4710 [==============================] - 11s 2ms/step - loss: 0.0012\n",
      "Epoch 6/10\n",
      "4710/4710 [==============================] - 45s 9ms/step - loss: 8.8434e-04\n",
      "Epoch 7/10\n",
      "4710/4710 [==============================] - 34s 7ms/step - loss: 9.4706e-04\n",
      "Epoch 8/10\n",
      "4710/4710 [==============================] - 21s 5ms/step - loss: 8.7052e-04\n",
      "Epoch 9/10\n",
      "4710/4710 [==============================] - 14s 3ms/step - loss: 9.7231e-04\n",
      "Epoch 10/10\n",
      "4710/4710 [==============================] - 11s 2ms/step - loss: 7.9345e-04\n",
      "[-0.36363636363636365, 0, 0, 0, 0]\n",
      "Epoch 1/10\n",
      "2279/2279 [==============================] - 11s 5ms/step - loss: 0.0089\n",
      "Epoch 2/10\n",
      "2279/2279 [==============================] - 6s 3ms/step - loss: 0.0036\n",
      "Epoch 3/10\n",
      "2279/2279 [==============================] - 7s 3ms/step - loss: 0.0028\n",
      "Epoch 4/10\n",
      "2279/2279 [==============================] - 6s 3ms/step - loss: 0.0027\n",
      "Epoch 5/10\n",
      "2279/2279 [==============================] - 6s 3ms/step - loss: 0.0028\n",
      "Epoch 6/10\n",
      "2279/2279 [==============================] - 6s 3ms/step - loss: 0.0021\n",
      "Epoch 7/10\n",
      "2279/2279 [==============================] - 6s 3ms/step - loss: 0.0023\n",
      "Epoch 8/10\n",
      "2279/2279 [==============================] - 6s 3ms/step - loss: 0.0022\n",
      "Epoch 9/10\n",
      "2279/2279 [==============================] - 6s 3ms/step - loss: 0.0020\n",
      "Epoch 10/10\n",
      "2279/2279 [==============================] - 6s 3ms/step - loss: 0.0024\n",
      "[-1.0, 0, 0, 0, 0]\n",
      "Epoch 1/10\n",
      "2086/2086 [==============================] - 9s 5ms/step - loss: 0.0338\n",
      "Epoch 2/10\n",
      "2086/2086 [==============================] - 5s 3ms/step - loss: 0.0065\n",
      "Epoch 3/10\n",
      "2086/2086 [==============================] - 5s 3ms/step - loss: 0.0063\n",
      "Epoch 4/10\n",
      "2086/2086 [==============================] - 5s 3ms/step - loss: 0.0056\n",
      "Epoch 5/10\n",
      "2086/2086 [==============================] - 5s 3ms/step - loss: 0.0055\n",
      "Epoch 6/10\n",
      "2086/2086 [==============================] - 5s 3ms/step - loss: 0.0046\n",
      "Epoch 7/10\n",
      "2086/2086 [==============================] - 5s 3ms/step - loss: 0.0046\n",
      "Epoch 8/10\n",
      "2086/2086 [==============================] - 6s 3ms/step - loss: 0.0048\n",
      "Epoch 9/10\n",
      "2086/2086 [==============================] - 5s 3ms/step - loss: 0.0039\n",
      "Epoch 10/10\n",
      "2086/2086 [==============================] - 6s 3ms/step - loss: 0.0039\n",
      "[0.14928193499622072, 0, 0, 0, 0]\n",
      "Epoch 1/10\n",
      "1572/1572 [==============================] - 9s 5ms/step - loss: 0.0119\n",
      "Epoch 2/10\n",
      "1572/1572 [==============================] - 4s 3ms/step - loss: 0.0028\n",
      "Epoch 3/10\n",
      "1572/1572 [==============================] - 4s 3ms/step - loss: 0.0024\n",
      "Epoch 4/10\n",
      "1572/1572 [==============================] - 4s 3ms/step - loss: 0.0020\n",
      "Epoch 5/10\n",
      "1572/1572 [==============================] - 4s 3ms/step - loss: 0.0017\n",
      "Epoch 6/10\n",
      "1572/1572 [==============================] - 4s 3ms/step - loss: 0.0016\n",
      "Epoch 7/10\n",
      "1572/1572 [==============================] - 4s 3ms/step - loss: 0.0017\n",
      "Epoch 8/10\n",
      "1572/1572 [==============================] - 4s 3ms/step - loss: 0.0016\n",
      "Epoch 9/10\n",
      "1572/1572 [==============================] - 4s 3ms/step - loss: 0.0014\n",
      "Epoch 10/10\n",
      "1572/1572 [==============================] - 4s 3ms/step - loss: 0.0014\n",
      "[-0.3404255319148936, 0, 0, 0, 0]\n",
      "Epoch 1/10\n",
      "1612/1612 [==============================] - 10s 6ms/step - loss: 0.0231\n",
      "Epoch 2/10\n",
      "1612/1612 [==============================] - 4s 3ms/step - loss: 0.0058\n",
      "Epoch 3/10\n",
      "1612/1612 [==============================] - 4s 3ms/step - loss: 0.0058\n",
      "Epoch 4/10\n",
      "1612/1612 [==============================] - 4s 3ms/step - loss: 0.0059\n",
      "Epoch 5/10\n",
      "1612/1612 [==============================] - 4s 3ms/step - loss: 0.0058\n",
      "Epoch 6/10\n",
      "1612/1612 [==============================] - 4s 3ms/step - loss: 0.0050\n",
      "Epoch 7/10\n",
      "1612/1612 [==============================] - 4s 3ms/step - loss: 0.0048\n",
      "Epoch 8/10\n",
      "1612/1612 [==============================] - 4s 3ms/step - loss: 0.0043\n",
      "Epoch 9/10\n",
      "1612/1612 [==============================] - 4s 3ms/step - loss: 0.0041\n",
      "Epoch 10/10\n",
      "1612/1612 [==============================] - 4s 3ms/step - loss: 0.0041\n",
      "[0.1276595744680851, 0, 0, 0, 0]\n"
     ]
    }
   ],
   "source": [
    "superret=[]\n",
    "for i in bomb[:]:\n",
    "    a=call_find(i)\n",
    "    superret.append(a)\n",
    "    print(a)"
   ]
  },
  {
   "cell_type": "code",
   "execution_count": 83,
   "metadata": {},
   "outputs": [
    {
     "data": {
      "text/plain": [
       "[[-0.36363636363636365, 0, 0, 0, 0],\n",
       " [-1.0, 0, 0, 0, 0],\n",
       " [0.14928193499622072, 0, 0, 0, 0],\n",
       " [-0.3404255319148936, 0, 0, 0, 0],\n",
       " [0.1276595744680851, 0, 0, 0, 0]]"
      ]
     },
     "execution_count": 83,
     "metadata": {},
     "output_type": "execute_result"
    }
   ],
   "source": [
    "superret"
   ]
  },
  {
   "cell_type": "code",
   "execution_count": 84,
   "metadata": {},
   "outputs": [],
   "source": [
    "pd.DataFrame(superret).to_csv(\"feature.csv\")"
   ]
  },
  {
   "cell_type": "markdown",
   "metadata": {},
   "source": [
    "## PARENT MODEL BEGINS"
   ]
  },
  {
   "cell_type": "code",
   "execution_count": 86,
   "metadata": {},
   "outputs": [],
   "source": [
    "data = pd.read_csv('./feature.csv')\n",
    "data=data.iloc[:,1:].values\n"
   ]
  },
  {
   "cell_type": "code",
   "execution_count": 87,
   "metadata": {},
   "outputs": [],
   "source": [
    "kmeans = KMeans(n_clusters=2)"
   ]
  },
  {
   "cell_type": "code",
   "execution_count": 88,
   "metadata": {},
   "outputs": [
    {
     "data": {
      "text/plain": [
       "KMeans(algorithm='auto', copy_x=True, init='k-means++', max_iter=300,\n",
       "    n_clusters=2, n_init=10, n_jobs=None, precompute_distances='auto',\n",
       "    random_state=None, tol=0.0001, verbose=0)"
      ]
     },
     "execution_count": 88,
     "metadata": {},
     "output_type": "execute_result"
    }
   ],
   "source": [
    "kmeans.fit(data)"
   ]
  },
  {
   "cell_type": "code",
   "execution_count": 89,
   "metadata": {},
   "outputs": [],
   "source": [
    "filename = 'finalized_model.sav'"
   ]
  },
  {
   "cell_type": "code",
   "execution_count": 90,
   "metadata": {},
   "outputs": [],
   "source": [
    "pickle.dump(kmeans, open(filename, 'wb'))"
   ]
  },
  {
   "cell_type": "code",
   "execution_count": 91,
   "metadata": {},
   "outputs": [],
   "source": [
    "kmeans = pickle.load(open(filename, 'rb'))"
   ]
  }
 ],
 "metadata": {
  "kernelspec": {
   "display_name": "Python 3",
   "language": "python",
   "name": "python3"
  },
  "language_info": {
   "codemirror_mode": {
    "name": "ipython",
    "version": 3
   },
   "file_extension": ".py",
   "mimetype": "text/x-python",
   "name": "python",
   "nbconvert_exporter": "python",
   "pygments_lexer": "ipython3",
   "version": "3.6.8"
  }
 },
 "nbformat": 4,
 "nbformat_minor": 2
}
